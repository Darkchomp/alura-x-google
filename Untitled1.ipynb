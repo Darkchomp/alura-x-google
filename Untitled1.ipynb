{
  "nbformat": 4,
  "nbformat_minor": 0,
  "metadata": {
    "colab": {
      "provenance": [],
      "authorship_tag": "ABX9TyNgeJFn9kagUf6FXyYkJMjt",
      "include_colab_link": true
    },
    "kernelspec": {
      "name": "python3",
      "display_name": "Python 3"
    },
    "language_info": {
      "name": "python"
    }
  },
  "cells": [
    {
      "cell_type": "markdown",
      "metadata": {
        "id": "view-in-github",
        "colab_type": "text"
      },
      "source": [
        "<a href=\"https://colab.research.google.com/github/Darkchomp/alura-x-google/blob/main/Untitled1.ipynb\" target=\"_parent\"><img src=\"https://colab.research.google.com/assets/colab-badge.svg\" alt=\"Open In Colab\"/></a>"
      ]
    },
    {
      "cell_type": "code",
      "source": [
        "# Import the necessary libraries\n",
        "import google.generativeai as genai\n",
        "from google.colab import userdata\n",
        "import re\n",
        "\n",
        "# Get the API key from userdata\n",
        "api_key = userdata.get('Avengers_Assemble')\n",
        "\n",
        "# Configure the API key\n",
        "genai.configure(api_key=api_key)\n",
        "\n",
        "# prompt for the AI\n",
        "prompt = \"\"\"\n",
        "You are an AI assistant that summarizes code and rates it based on five parameters: efficiency, submission date, creativity, utility, and presentation.\n",
        "\n",
        "**Code:**\n",
        "\n",
        "{code}\n",
        "\n",
        "**Summary:**\n",
        "\n",
        "Provide a concise summary of what the code does.\n",
        "\n",
        "**Rating:**\n",
        "\n",
        "Rate the code on a scale of 1 to 5 for each of the following parameters:\n",
        "\n",
        "* Efficiency\n",
        "* Submission date\n",
        "* Creativity\n",
        "* Utility\n",
        "* Presentation\n",
        "\"\"\"\n",
        "\n",
        "# Get the code from the user\n",
        "code = input(\"Enter the code you want to summarize: \")\n",
        "\n",
        "# Generate the response from the AI\n",
        "response = genai.completion.create(prompt=prompt.format(code=code), max_tokens=1024)\n",
        "\n",
        "# Extract the summary and rating from the response\n",
        "summary = re.search(r'Summary:\\n(.*?)\\nRating:', response.candidates[0].output).group(1)\n",
        "rating = {}\n",
        "for parameter in [\"Efficiency\", \"Submission date\", \"Creativity\", \"Utility\", \"Presentation\"]:\n",
        "    rating[parameter] = int(re.search(r'{}\\n(.*?)\\n'.format(parameter), response.candidates[0].output).group(1))\n",
        "\n",
        "# Print the summary and rating\n",
        "print(\"Summary:\")\n",
        "print(summary)\n",
        "print(\"\\nRating:\")\n",
        "for parameter, score in rating.items():\n",
        "    print(\"{}: {}\".format(parameter, score))\n"
      ],
      "metadata": {
        "id": "p1IPmgjpyvqj"
      },
      "execution_count": null,
      "outputs": []
    }
  ]
}